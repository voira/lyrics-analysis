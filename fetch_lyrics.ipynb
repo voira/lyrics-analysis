{
 "cells": [
  {
   "cell_type": "code",
   "execution_count": null,
   "metadata": {},
   "outputs": [],
   "source": [
    "import lyricsgenius\n",
    "import pandas as pd\n",
    "import time\n",
    "\n",
    "genius_token = \"Q7F1UAjgD74fWuudQiukK18h-wK6fO-KRAOiPE_8b2WTfCn_HGM5ucMZE_Ziuzbe\""
   ]
  },
  {
   "cell_type": "code",
   "execution_count": null,
   "metadata": {},
   "outputs": [],
   "source": [
    "genius = lyricsgenius.Genius(genius_token)"
   ]
  },
  {
   "cell_type": "code",
   "execution_count": null,
   "metadata": {},
   "outputs": [],
   "source": [
    "# Function to fetch lyrics\n",
    "def fetch_lyrics(song_title, artist_name):\n",
    "    try:\n",
    "        # Search for the song\n",
    "        song = genius.search_song(song_title, artist_name)\n",
    "        if song:\n",
    "            print(f\"Fetched lyrics for '{song_title}' by '{artist_name}'\")\n",
    "            return song.lyrics\n",
    "        else:\n",
    "            print(f\"No lyrics found for '{song_title}' by '{artist_name}'\")\n",
    "            return None\n",
    "    except Exception as e:\n",
    "        print(f\"Error fetching lyrics for '{song_title}' by '{artist_name}': {e}\")\n",
    "        return None\n"
   ]
  },
  {
   "cell_type": "code",
   "execution_count": null,
   "metadata": {},
   "outputs": [],
   "source": [
    "# Read the data\n",
    "song_list = pd.read_csv('songlist.csv')\n",
    "\n",
    "# Clean the data\n",
    "song_list = song_list.drop(columns=[\"Unnamed: 0\"])\n",
    "song_list[\"Year\"] = song_list[\"Year\"].astype(int) \n",
    "\n",
    "# Find where it gets bad \n",
    "error_index = song_list[song_list['Year'] == 2021].index[0]\n",
    "\n",
    "# Split the data\n",
    "df_correct = song_list.iloc[:error_index]\n",
    "df_mistake = song_list.iloc[error_index:]\n",
    "\n",
    "# Split 'Artist' column into 'Artist' and 'Additional Text'\n",
    "df_mistake[['Song2', 'Artist']] = df_mistake['Artist'].str.split('and', n=1, expand=True)\n",
    "df_mistake['Song2'] = df_mistake['Song2'].str.replace('\"', '')\n",
    "df_mistake[\"Artist\"] = df_mistake['Artist'].str[:-3]\n",
    "df_correct[\"Artist\"] = df_correct['Artist'].str[:-3]\n",
    "df_mistake[\"Song\"] = df_mistake[\"Song2\"]\n",
    "df_mistake = df_mistake.drop(columns=[\"Song2\"])\n",
    "\n",
    "song_list = pd.concat([df_correct, df_mistake], ignore_index=True)"
   ]
  },
  {
   "cell_type": "code",
   "execution_count": null,
   "metadata": {},
   "outputs": [],
   "source": [
    "song_list"
   ]
  },
  {
   "cell_type": "code",
   "execution_count": null,
   "metadata": {},
   "outputs": [],
   "source": [
    "# Dictionary to store lyrics\n",
    "lyrics_dict = {}\n",
    "\n",
    "# Iterate over songs\n",
    "for index, row in song_list.iterrows():\n",
    "    song_title = row['Song']\n",
    "    artist_name = row['Artist']\n",
    "    \n",
    "    # Fetch lyrics\n",
    "    lyrics = fetch_lyrics(song_title, artist_name)\n",
    "    if lyrics:\n",
    "        lyrics_dict[f\"{song_title} - {artist_name}\"] = lyrics\n",
    "    \n",
    "    # Sleep to handle rate limiting\n",
    "    time.sleep(1)"
   ]
  },
  {
   "cell_type": "code",
   "execution_count": null,
   "metadata": {},
   "outputs": [],
   "source": [
    "import csv\n",
    "\n",
    "with open('lyrics.csv', 'w', newline='', encoding='utf-8') as csv_file:\n",
    "    writer = csv.writer(csv_file)\n",
    "    writer.writerow(['Song Title', 'Lyrics'])\n",
    "    for song_info, lyrics in lyrics_dict.items():\n",
    "        writer.writerow([song_info, lyrics])"
   ]
  }
 ],
 "metadata": {
  "kernelspec": {
   "display_name": "Python 3",
   "language": "python",
   "name": "python3"
  },
  "language_info": {
   "codemirror_mode": {
    "name": "ipython",
    "version": 3
   },
   "file_extension": ".py",
   "mimetype": "text/x-python",
   "name": "python",
   "nbconvert_exporter": "python",
   "pygments_lexer": "ipython3",
   "version": "3.12.3"
  }
 },
 "nbformat": 4,
 "nbformat_minor": 2
}
